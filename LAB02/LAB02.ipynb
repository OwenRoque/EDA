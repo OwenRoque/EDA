{
  "nbformat": 4,
  "nbformat_minor": 0,
  "metadata": {
    "colab": {
      "provenance": []
    },
    "kernelspec": {
      "name": "python3",
      "display_name": "Python 3"
    },
    "language_info": {
      "name": "python"
    }
  },
  "cells": [
    {
      "cell_type": "markdown",
      "source": [
        "1. Genere un archivo con un millon de numeros aleatorios (serán flotantes entre 0 y 1),\n",
        "este representara el vector a ordenar en las pruebas de los algoritmos de ordenamiento"
      ],
      "metadata": {
        "id": "oaDvaKqWr3g5"
      }
    },
    {
      "cell_type": "markdown",
      "source": [
        "### Alumno: Roque Sosa Owen Haziel"
      ],
      "metadata": {
        "id": "kBg5HW3XJPbv"
      }
    },
    {
      "cell_type": "code",
      "source": [
        "from google.colab import drive\n",
        "drive.mount('/content/drive')"
      ],
      "metadata": {
        "colab": {
          "base_uri": "https://localhost:8080/"
        },
        "id": "GBNNT31QsO-t",
        "outputId": "8379045c-239c-467f-9e5f-082e05d7feb1"
      },
      "execution_count": null,
      "outputs": [
        {
          "output_type": "stream",
          "name": "stdout",
          "text": [
            "Mounted at /content/drive\n"
          ]
        }
      ]
    },
    {
      "cell_type": "code",
      "execution_count": null,
      "metadata": {
        "colab": {
          "base_uri": "https://localhost:8080/"
        },
        "id": "vy6IM9xhq5V9",
        "outputId": "05bea029-d707-414b-b59e-a24bb5a5a217"
      },
      "outputs": [
        {
          "output_type": "stream",
          "name": "stdout",
          "text": [
            "Se han generado y guardado 1000000 números aleatorios en 'numeros_aleatorios.txt'.\n"
          ]
        }
      ],
      "source": [
        "import numpy as np\n",
        "\n",
        "random_numbers = np.random.rand(1000000)\n",
        "\n",
        "nombre_archivo = \"numeros_aleatorios.txt\"\n",
        "\n",
        "with open(nombre_archivo, \"w\") as archivo:\n",
        "    for numero in random_numbers:\n",
        "        archivo.write(str(numero) + \"\\n\")\n",
        "\n",
        "print(f\"Se han generado y guardado {len(random_numbers)} números aleatorios en '{nombre_archivo}'.\")"
      ]
    },
    {
      "cell_type": "markdown",
      "source": [
        "2. Implemente los siguientes algoritmos:\n",
        "* Bubble sort\n",
        "* Heap sort\n",
        "* Insertion sort\n",
        "* Selection sort\n",
        "* Shell sort\n",
        "* Merge sort\n",
        "* Quick sort\n"
      ],
      "metadata": {
        "id": "hp1FJYCltFGY"
      }
    },
    {
      "cell_type": "code",
      "source": [
        "def conversion_arreglo(nombre_archivo):\n",
        "    \"\"\"Lee el archivo generado con números aleatorios y los convierte en un arreglo.\"\"\"\n",
        "    try:\n",
        "        with open(nombre_archivo, \"r\") as archivo:\n",
        "            numeros = [float(line.strip()) for line in archivo]\n",
        "        return numeros\n",
        "    except FileNotFoundError:\n",
        "        print(f\"El archivo '{nombre_archivo}' no se encontró.\")\n",
        "        return []"
      ],
      "metadata": {
        "id": "xqToEDkFtQ-4"
      },
      "execution_count": null,
      "outputs": []
    },
    {
      "cell_type": "markdown",
      "source": [
        "3. Analizar la complejidad computacional de cada uno."
      ],
      "metadata": {
        "id": "Ka-vMQU5vkFA"
      }
    },
    {
      "cell_type": "markdown",
      "source": [
        "# BubbleSort"
      ],
      "metadata": {
        "id": "GbclcUO7uP8Q"
      }
    },
    {
      "cell_type": "code",
      "source": [
        "def bubble_sort(arr):\n",
        "    n = len(arr)\n",
        "    for i in range(n):\n",
        "        for j in range(0, n-i-1):\n",
        "            if arr[j] > arr[j+1]:\n",
        "                arr[j], arr[j+1] = arr[j+1], arr[j] # Swap"
      ],
      "metadata": {
        "id": "ULkgHzsduVnK"
      },
      "execution_count": null,
      "outputs": []
    },
    {
      "cell_type": "markdown",
      "source": [
        "1. Peor caso: $O(n^2)$ - El rendimiento empeora cuadráticamente a medida que aumenta el tamaño del arreglo, especialmente cuando está completamente desordenado.\n",
        "\n",
        "2. Caso promedio: $O(n^2)$ - En promedio, el algoritmo requiere realizar un número cuadrático de comparaciones e intercambios.\n",
        "\n",
        "3. Mejor caso (con optimización): $O(n)$ - En el mejor caso, si se implementa una optimización para detener el algoritmo cuando no se realizan intercambios, la complejidad puede reducirse a lineal, pero sigue siendo ineficiente para arreglos grandes en comparación con otros algoritmos de ordenamiento más eficientes."
      ],
      "metadata": {
        "id": "jETWr2VLmfwE"
      }
    },
    {
      "cell_type": "markdown",
      "source": [
        "# HeapSort"
      ],
      "metadata": {
        "id": "05d2ibNXvIQO"
      }
    },
    {
      "cell_type": "code",
      "source": [
        "def heapify(arr, n, i):\n",
        "    # Inicializar el nodo raíz más grande como el índice actual\n",
        "    largest = i\n",
        "    left = 2 * i + 1\n",
        "    right = 2 * i + 2\n",
        "\n",
        "    # Comprobar si el hijo izquierdo del nodo raíz existe y es mayor que el nodo raíz actual\n",
        "    if left < n and arr[left] > arr[largest]:\n",
        "        largest = left\n",
        "\n",
        "    # Comprobar si el hijo derecho del nodo raíz existe y es mayor que el nodo raíz actual\n",
        "    if right < n and arr[right] > arr[largest]:\n",
        "        largest = right\n",
        "\n",
        "    # Cambiar el nodo raíz actual si no es el más grande\n",
        "    if largest != i:\n",
        "        arr[i], arr[largest] = arr[largest], arr[i]  # Swap\n",
        "        heapify(arr, n, largest)\n",
        "\n",
        "def heap_sort(arr):\n",
        "    n = len(arr)\n",
        "\n",
        "    # Construir un max heap\n",
        "    for i in range(n // 2 - 1, -1, -1):\n",
        "        heapify(arr, n, i)\n",
        "\n",
        "    # Extraer elementos uno por uno\n",
        "    for i in range(n - 1, 0, -1):\n",
        "        arr[i], arr[0] = arr[0], arr[i]  # Swap\n",
        "        heapify(arr, i, 0)"
      ],
      "metadata": {
        "id": "IDTVK7UivCs_"
      },
      "execution_count": null,
      "outputs": []
    },
    {
      "cell_type": "markdown",
      "source": [
        "1. Peor caso: $O(n \\: log \\: n)$ - El peor caso ocurre cuando el arreglo está completamente desordenado. *heapify* tiene una complejidad de $O(log \\: n)$, y se llama *n* veces en el peor caso durante la construcción del heap binario.\n",
        "\n",
        "2. Caso promedio: $O(n \\: log \\: n)$\n",
        "\n",
        "3. Mejor caso: $O(n \\: log \\: n)$ - El mejor caso es similar al peor caso, ya que Heap Sort siempre realiza el mismo número de operaciones para construir y ordenar el heap binario."
      ],
      "metadata": {
        "id": "McHgcrNa0hxc"
      }
    },
    {
      "cell_type": "markdown",
      "source": [
        "#InsertionSort\n"
      ],
      "metadata": {
        "id": "1UWveIWpvJ7-"
      }
    },
    {
      "cell_type": "code",
      "source": [
        "def insertion_sort(arr):\n",
        "    for i in range(1, len(arr)):\n",
        "        key = arr[i]\n",
        "        j = i - 1\n",
        "        while j >= 0 and key < arr[j]:\n",
        "            arr[j + 1] = arr[j]\n",
        "            j -= 1\n",
        "        arr[j + 1] = key"
      ],
      "metadata": {
        "id": "WCJu5cNIveIm"
      },
      "execution_count": null,
      "outputs": []
    },
    {
      "cell_type": "markdown",
      "source": [
        "1. Peor caso: $O(n^2)$ - El peor caso ocurre cuando el arreglo está completamente desordenado, y en cada iteración del algoritmo se debe recorrer todo el arreglo para encontrar la posición correcta para el elemento actual.\n",
        "\n",
        "2. Caso promedio: $O(n^2)$ - En promedio, el Insertion Sort también tiene una complejidad cuadrática, ya que el número de comparaciones e intercambios crece cuadráticamente con el tamaño del arreglo.\n",
        "\n",
        "3. Mejor caso: $O(n)$ - El mejor caso ocurre cuando el arreglo ya está ordenado o casi ordenado. En este caso, el algoritmo solo realiza una comparación por elemento y no realiza intercambios, lo que da como resultado una complejidad lineal."
      ],
      "metadata": {
        "id": "JvYAjsjJBRtm"
      }
    },
    {
      "cell_type": "markdown",
      "source": [
        "# SelectionSort"
      ],
      "metadata": {
        "id": "AJL_444PvLqu"
      }
    },
    {
      "cell_type": "code",
      "source": [
        "def selection_sort(arr):\n",
        "    n = len(arr)\n",
        "\n",
        "    for i in range(n):\n",
        "        # Encontrar el índice del mínimo elemento en el arreglo no ordenado\n",
        "        min_index = i\n",
        "        for j in range(i + 1, n):\n",
        "            if arr[j] < arr[min_index]:\n",
        "                min_index = j\n",
        "\n",
        "        # Intercambiar el elemento mínimo encontrado con el primer elemento no ordenado\n",
        "        arr[i], arr[min_index] = arr[min_index], arr[i]"
      ],
      "metadata": {
        "id": "stHTxaULBtaj"
      },
      "execution_count": null,
      "outputs": []
    },
    {
      "cell_type": "markdown",
      "source": [
        "1. Peor caso: $O(n^2)$ - El peor caso ocurre cuando el arreglo está completamente desordenado. En cada iteración, se busca el elemento mínimo en la parte no ordenada del arreglo, lo que requiere *n - i* comparaciones en la iteración *i*, donde *n* es la longitud del arreglo.\n",
        "\n",
        "2. Caso promedio: $O(n^2)$ - En promedio, el Selection Sort también tiene una complejidad cuadrática, ya que el número de comparaciones e intercambios crece cuadráticamente con el tamaño del arreglo.\n",
        "\n",
        "3. Mejor caso: $O(n^2)$ - El mejor caso también es cuadrático, ya que incluso si el arreglo ya está parcialmente ordenado, el algoritmo seguirá realizando el mismo número de comparaciones e intercambios."
      ],
      "metadata": {
        "id": "DoJYWjK3BuuH"
      }
    },
    {
      "cell_type": "markdown",
      "source": [
        "# ShellSort"
      ],
      "metadata": {
        "id": "KIqJI3RBvOrf"
      }
    },
    {
      "cell_type": "code",
      "source": [
        "def shell_sort(arr):\n",
        "    n = len(arr)\n",
        "    intervalo = n // 2  # Inicializar el intervalo\n",
        "\n",
        "    while intervalo > 0:\n",
        "        for i in range(intervalo, n):\n",
        "            valor = arr[i]\n",
        "            j = i\n",
        "\n",
        "            while j >= intervalo and arr[j - intervalo] > valor:\n",
        "                arr[j] = arr[j - intervalo]\n",
        "                j -= intervalo\n",
        "\n",
        "            arr[j] = valor\n",
        "\n",
        "        intervalo //= 2  # Reducir el intervalo a la mitad"
      ],
      "metadata": {
        "id": "0tRrdLAvEMqC"
      },
      "execution_count": null,
      "outputs": []
    },
    {
      "cell_type": "markdown",
      "source": [
        "La complejidad del Shell Sort depende del incremento (intervalo) utilizado para dividir y ordenar el arreglo. La complejidad generalmente se describe como una función de Knuth (también conocida como la secuencia de incrementos de Knuth).\n",
        "\n",
        "1. Peor caso: $O(n^2)$ - En el peor caso, cuando se utiliza la secuencia de incrementos de Knuth, el Shell Sort tiene una complejidad cuadrática.\n",
        "\n",
        "2. Caso promedio: En la práctica, la complejidad del Shell Sort varía según el incremento utilizado. Se ha demostrado que la secuencia de incrementos de Knuth produce buenos resultados en la mayoría de los casos, pero en general, el rendimiento puede ser difícil de predecir. En promedio, el Shell Sort tiende a ser más rápido que otros algoritmos de ordenamiento cuadráticos como el **Insertion Sort** o el **Selection Sort**. En general, se podría aproximar a $O(n \\: log \\: n)$.\n",
        "\n",
        "3. Mejor caso: $O(n \\: log \\: n)$ - El mejor caso ocurre cuando se utiliza una secuencia de incrementos específica que produce un rendimiento óptimo. En ese caso, la complejidad se aproxima a $O(n \\: log \\: n)$."
      ],
      "metadata": {
        "id": "v6r7wDrcEW_Y"
      }
    },
    {
      "cell_type": "markdown",
      "source": [
        "# MergeSort"
      ],
      "metadata": {
        "id": "s-5sXYlyvRG9"
      }
    },
    {
      "cell_type": "code",
      "source": [
        "def merge_sort(arr):\n",
        "    if len(arr) <= 1:\n",
        "        return arr\n",
        "\n",
        "    mid = len(arr) // 2\n",
        "    left = arr[:mid]\n",
        "    right = arr[mid:]\n",
        "\n",
        "    left = merge_sort(left)\n",
        "    right = merge_sort(right)\n",
        "\n",
        "    return merge(left, right)\n",
        "\n",
        "def merge(left, right):\n",
        "    result = []\n",
        "    i = j = 0\n",
        "\n",
        "    while i < len(left) and j < len(right):\n",
        "        if left[i] < right[j]:\n",
        "            result.append(left[i])\n",
        "            i += 1\n",
        "        else:\n",
        "            result.append(right[j])\n",
        "            j += 1\n",
        "\n",
        "    result.extend(left[i:])\n",
        "    result.extend(right[j:])\n",
        "\n",
        "    return result"
      ],
      "metadata": {
        "id": "BQQeRDKLvW7e"
      },
      "execution_count": null,
      "outputs": []
    },
    {
      "cell_type": "markdown",
      "source": [
        "1. Peor caso: $O(n \\: log \\: n)$ - En el peor caso, Merge Sort siempre divide el arreglo en mitades iguales y luego combina las mitades ordenadas. El número de comparaciones e intercambios realizados es $O(n \\: log \\: n)$.\n",
        "\n",
        "2. Caso promedio: $O(n \\: log \\: n)$ - En promedio, el Merge Sort también tiene una complejidad de $O(n \\: log \\: n)$, ya que divide y combina las mitades de manera consistente, independientemente de la distribución de los datos.\n",
        "\n",
        "3. Mejor caso: $O(n \\: log \\: n)$ - El mejor caso ocurre cuando el arreglo ya está parcialmente ordenado. Aunque Merge Sort aún divide y combina, el número de comparaciones e intercambios es el mismo que en el peor caso, lo que da como resultado una complejidad de $O(n \\: log \\: n)$."
      ],
      "metadata": {
        "id": "-GygNSvsE5Go"
      }
    },
    {
      "cell_type": "markdown",
      "source": [
        "# QuickSort"
      ],
      "metadata": {
        "id": "DZtuD9qxvTLe"
      }
    },
    {
      "cell_type": "code",
      "source": [
        "def quick_sort(arr):\n",
        "    if len(arr) <= 1:\n",
        "        return arr\n",
        "    else:\n",
        "        pivot = arr[0]\n",
        "        menores = [x for x in arr[1:] if x <= pivot]\n",
        "        mayores = [x for x in arr[1:] if x > pivot]\n",
        "        return quick_sort(menores) + [pivot] + quick_sort(mayores)"
      ],
      "metadata": {
        "id": "Y4ua4UaXHvIi"
      },
      "execution_count": null,
      "outputs": []
    },
    {
      "cell_type": "markdown",
      "source": [
        "1. Peor caso: $O(n^2)$ - El peor caso ocurre cuando el pivote elegido divide el arreglo de manera desequilibrada en dos subarreglos, uno de tamaño *0* y otro de tamaño *n-1*. Esto sucede en el caso en que el arreglo ya esté ordenado o casi ordenado y el primer elemento se elija como pivote en cada iteración.\n",
        "\n",
        "2. Caso promedio: $O(n \\: log \\: n)$. - En promedio, el Quick Sort tiene una complejidad de $O(n \\: log \\: n)$.. Esto se debe a que, en promedio, el pivote divide el arreglo de manera equitativa y se realiza un número logarítmico de divisiones.\n",
        "\n",
        "3. Mejor caso (raro): $O(n \\: log \\: n)$. - El mejor caso ocurre cuando el pivote divide el arreglo de manera equitativa en cada iteración. Esto puede suceder en algunos escenarios, pero no es común."
      ],
      "metadata": {
        "id": "qyJXwIyqHw02"
      }
    },
    {
      "cell_type": "markdown",
      "source": [
        "4. Evaluar y comparar sus algoritmos usando el archivo generado (variando el tamaño del vector) y construir\n",
        "una(s) grafica(s) comparativa(s)."
      ],
      "metadata": {
        "id": "7lkFJIvsvvN6"
      }
    },
    {
      "cell_type": "code",
      "source": [
        "import random\n",
        "import time\n",
        "import matplotlib.pyplot as plt\n",
        "\n",
        "def medir_tiempo(algoritmo, arreglo):\n",
        "    inicio = time.time()\n",
        "    algoritmo(arreglo.copy())  # Hacer una copia del arreglo para no modificar el original\n",
        "    fin = time.time()\n",
        "    return fin - inicio\n",
        "\n",
        "with open(\"numeros_aleatorios.txt\", \"r\") as archivo:\n",
        "    numeros = [float(line.strip()) for line in archivo]\n",
        "\n",
        "tamahnos_subarreglos = [100, 500, 1000, 2500, 5000, 7500, 10000]\n",
        "\n",
        "algoritmos = [bubble_sort, selection_sort, insertion_sort, shell_sort, quick_sort, merge_sort, heap_sort]\n",
        "\n",
        "resultados = {algoritmo.__name__: [] for algoritmo in algoritmos}\n",
        "for algoritmo in algoritmos:\n",
        "    for tamaño in tamahnos_subarreglos:\n",
        "        subarreglo = random.sample(numeros, tamaño)\n",
        "        tiempo = medir_tiempo(algoritmo, subarreglo)\n",
        "        resultados[algoritmo.__name__].append(tiempo)\n",
        "\n",
        "# Histograma\n",
        "\n",
        "plt.figure(figsize=(12, 6))\n",
        "for algoritmo, tiempos in resultados.items():\n",
        "    plt.plot(tamahnos_subarreglos, tiempos, marker='o', label=algoritmo, linestyle='-')\n",
        "\n",
        "plt.xlabel(\"Tamaño del Subarreglo\")\n",
        "plt.ylabel(\"Tiempo de Ejecución (segundos)\")\n",
        "plt.legend()\n",
        "plt.title(\"Tiempos de Ejecución de Algoritmos de Ordenamiento\")\n",
        "plt.grid(True)\n",
        "plt.show()"
      ],
      "metadata": {
        "id": "9RffJM3WIBp0",
        "colab": {
          "base_uri": "https://localhost:8080/",
          "height": 565
        },
        "outputId": "bcfcea6a-2b4a-4fe4-843a-106400fa6568"
      },
      "execution_count": null,
      "outputs": [
        {
          "output_type": "display_data",
          "data": {
            "text/plain": [
              "<Figure size 1200x600 with 1 Axes>"
            ],
            "image/png": "[encoded data removed]"
          },
          "metadata": {}
        }
      ]
    }
  ]
}